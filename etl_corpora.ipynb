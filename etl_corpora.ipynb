{
 "cells": [
  {
   "cell_type": "markdown",
   "metadata": {},
   "source": [
    "# ETL FOR THE DIPLOMAS' CORPORA\n",
    "\n",
    "Description"
   ]
  },
  {
   "cell_type": "markdown",
   "metadata": {},
   "source": [
    "***\n",
    "***\n",
    "***\n",
    "***\n",
    "***\n",
    "# Config"
   ]
  },
  {
   "cell_type": "code",
   "execution_count": 1,
   "metadata": {},
   "outputs": [],
   "source": [
    "from etl_routines import etl_main\n",
    "import random"
   ]
  },
  {
   "cell_type": "markdown",
   "metadata": {},
   "source": [
    "## Params"
   ]
  },
  {
   "cell_type": "code",
   "execution_count": 12,
   "metadata": {},
   "outputs": [],
   "source": [
    "LOCAL_CONNECTION: bool = True\n",
    "HIDE_SCRAPER_BROWSER: bool = False\n",
    "IMPORT_CORPORA_NO_LABELS: bool = False\n",
    "EXPORT_CORPORA_NO_LABELS: bool = False\n",
    "STARTING_FILE_FROM_SCRATCH: bool = True\n",
    "OUTPUT_FILE: str = \"./data/corpus.csv\""
   ]
  },
  {
   "cell_type": "markdown",
   "metadata": {},
   "source": [
    "## New metadata"
   ]
  },
  {
   "cell_type": "code",
   "execution_count": 4,
   "metadata": {},
   "outputs": [],
   "source": [
    "last_yearly_diplomas = {\n",
    "    2020: \"Decreto-Lei n.º 109/2020\",\n",
    "    2021: \"Decreto-Lei n.º 126/2021\",\n",
    "    2022: \"Decreto-Lei n.º 28/2022\"\n",
    "}"
   ]
  },
  {
   "cell_type": "code",
   "execution_count": 5,
   "metadata": {},
   "outputs": [],
   "source": [
    "diplomas_metadata = []\n",
    "for year, diploma_code in last_yearly_diplomas.items():\n",
    "    last_diploma_id = last_yearly_diplomas[year].split()[-1].split(\"/\")[0]\n",
    "    for i in range(1, (int(last_diploma_id) + 1)):\n",
    "        diplomas_metadata.append({\"code\": f\"Decreto-Lei n.º {i}/{year}\"})"
   ]
  },
  {
   "cell_type": "code",
   "execution_count": 6,
   "metadata": {},
   "outputs": [
    {
     "name": "stdout",
     "output_type": "stream",
     "text": [
      "Number of diplomas to scrape: 263\n"
     ]
    },
    {
     "data": {
      "text/plain": [
       "[{'code': 'Decreto-Lei n.º 97/2020'},\n",
       " {'code': 'Decreto-Lei n.º 40/2020'},\n",
       " {'code': 'Decreto-Lei n.º 98/2021'},\n",
       " {'code': 'Decreto-Lei n.º 103/2020'},\n",
       " {'code': 'Decreto-Lei n.º 36/2021'},\n",
       " {'code': 'Decreto-Lei n.º 91/2021'},\n",
       " {'code': 'Decreto-Lei n.º 89/2020'},\n",
       " {'code': 'Decreto-Lei n.º 48/2020'},\n",
       " {'code': 'Decreto-Lei n.º 22/2021'},\n",
       " {'code': 'Decreto-Lei n.º 14/2022'}]"
      ]
     },
     "execution_count": 6,
     "metadata": {},
     "output_type": "execute_result"
    }
   ],
   "source": [
    "print(f\"Number of diplomas to scrape: {len(diplomas_metadata)}\")\n",
    "random.choices(population=diplomas_metadata, k=10)"
   ]
  },
  {
   "cell_type": "markdown",
   "metadata": {},
   "source": [
    "***\n",
    "***\n",
    "***\n",
    "# Scrape corpora\n",
    "Scrape and parse diplomas from DRE.pt<br>\n",
    "OR<br>\n",
    "Import from local directory if it already exists (next section)."
   ]
  },
  {
   "cell_type": "code",
   "execution_count": 13,
   "metadata": {},
   "outputs": [],
   "source": [
    "# Clean the output file of previous scrapes.\n",
    "if STARTING_FILE_FROM_SCRATCH:\n",
    "    open(OUTPUT_FILE, \"w\").close()"
   ]
  },
  {
   "cell_type": "code",
   "execution_count": null,
   "metadata": {},
   "outputs": [],
   "source": [
    "etl_main.etl_multiple_published_to_disk(\n",
    "    diplomas_metadata=diplomas_metadata[10:20],\n",
    "    local_connection=LOCAL_CONNECTION,\n",
    "    headless=HIDE_SCRAPER_BROWSER,\n",
    "    file_path_and_name=OUTPUT_FILE,\n",
    ")"
   ]
  }
 ],
 "metadata": {
  "kernelspec": {
   "display_name": "Python 3.8.2 ('.venv': venv)",
   "language": "python",
   "name": "python3"
  },
  "language_info": {
   "codemirror_mode": {
    "name": "ipython",
    "version": 3
   },
   "file_extension": ".py",
   "mimetype": "text/x-python",
   "name": "python",
   "nbconvert_exporter": "python",
   "pygments_lexer": "ipython3",
   "version": "3.8.2"
  },
  "orig_nbformat": 4,
  "vscode": {
   "interpreter": {
    "hash": "3f85f0246d0574244ac41be8446c42e9970c50967ab6b7a45b5060eec52b5af1"
   }
  }
 },
 "nbformat": 4,
 "nbformat_minor": 2
}
